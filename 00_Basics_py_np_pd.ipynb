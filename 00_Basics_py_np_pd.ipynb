{
 "cells": [
  {
   "cell_type": "markdown",
   "id": "0d9a9daa",
   "metadata": {},
   "source": [
    "# Basics on py and numpy "
   ]
  },
  {
   "cell_type": "code",
   "execution_count": 1,
   "id": "4c279b4f",
   "metadata": {},
   "outputs": [],
   "source": [
    "import numpy as np"
   ]
  },
  {
   "cell_type": "code",
   "execution_count": 2,
   "id": "c223f4cb",
   "metadata": {},
   "outputs": [
    {
     "data": {
      "text/plain": [
       "array([0.70141421, 0.1585267 , 0.25974485])"
      ]
     },
     "execution_count": 2,
     "metadata": {},
     "output_type": "execute_result"
    }
   ],
   "source": [
    "# random float in range (0,1)\n",
    "np.random.rand(3)"
   ]
  },
  {
   "cell_type": "code",
   "execution_count": 3,
   "id": "b79a77e8",
   "metadata": {},
   "outputs": [
    {
     "data": {
      "text/plain": [
       "array([[-0.93110309, -0.30947491],\n",
       "       [ 2.01018736, -1.32090811],\n",
       "       [-0.80985007, -2.04333137]])"
      ]
     },
     "execution_count": 3,
     "metadata": {},
     "output_type": "execute_result"
    }
   ],
   "source": [
    "# random float with std. dist\n",
    "np.random.randn(3,2)"
   ]
  },
  {
   "cell_type": "code",
   "execution_count": 4,
   "id": "5b48560d",
   "metadata": {
    "scrolled": true
   },
   "outputs": [
    {
     "data": {
      "text/plain": [
       "array([[4, 1],\n",
       "       [2, 1],\n",
       "       [2, 4]])"
      ]
     },
     "execution_count": 4,
     "metadata": {},
     "output_type": "execute_result"
    }
   ],
   "source": [
    "# random integer\n",
    "np.random.randint(1,5,(3,2))"
   ]
  },
  {
   "cell_type": "code",
   "execution_count": 5,
   "id": "88e49b23",
   "metadata": {
    "scrolled": true
   },
   "outputs": [
    {
     "data": {
      "text/plain": [
       "array([[1., 1.],\n",
       "       [1., 1.],\n",
       "       [1., 1.]])"
      ]
     },
     "execution_count": 5,
     "metadata": {},
     "output_type": "execute_result"
    }
   ],
   "source": [
    "# generate array of ones \n",
    "np.ones((3,2))\n",
    "\n",
    "# np.zeros() for 0s"
   ]
  },
  {
   "cell_type": "code",
   "execution_count": 6,
   "id": "509be542",
   "metadata": {},
   "outputs": [],
   "source": [
    "# args : positional args\n",
    "# argk : keyword args\n",
    "def args(*args,**argk):\n",
    "    print(args)\n",
    "    print(argk)"
   ]
  },
  {
   "cell_type": "code",
   "execution_count": 7,
   "id": "76c32ac1",
   "metadata": {},
   "outputs": [
    {
     "name": "stdout",
     "output_type": "stream",
     "text": [
      "('hello',)\n",
      "{'a': 'hi'}\n"
     ]
    }
   ],
   "source": [
    "args('hello',a = 'hi')"
   ]
  },
  {
   "cell_type": "code",
   "execution_count": 8,
   "id": "dd3b7fb6",
   "metadata": {},
   "outputs": [
    {
     "data": {
      "text/plain": [
       "[2, 3]"
      ]
     },
     "execution_count": 8,
     "metadata": {},
     "output_type": "execute_result"
    }
   ],
   "source": [
    "# map basics \n",
    "list(map(int,[2.0,3.0]))"
   ]
  },
  {
   "cell_type": "code",
   "execution_count": 9,
   "id": "32e8440e",
   "metadata": {},
   "outputs": [
    {
     "name": "stdout",
     "output_type": "stream",
     "text": [
      "2 3\n"
     ]
    }
   ],
   "source": [
    "# lambda : anmys fn\n",
    "add = lambda a,b:a+b\n",
    "print(2,3)"
   ]
  },
  {
   "cell_type": "code",
   "execution_count": 10,
   "id": "73897215",
   "metadata": {},
   "outputs": [
    {
     "data": {
      "text/plain": [
       "[2, 4, 6]"
      ]
     },
     "execution_count": 10,
     "metadata": {},
     "output_type": "execute_result"
    }
   ],
   "source": [
    "# filter basics \n",
    "def even(num):\n",
    "    if(num%2==0):\n",
    "        return True\n",
    "l = [1,2,3,4,5,6]\n",
    "list(filter(even,l))"
   ]
  },
  {
   "cell_type": "code",
   "execution_count": 11,
   "id": "f91cacc9",
   "metadata": {},
   "outputs": [],
   "source": [
    "# iterable : list is iterable where we can access elements one by one and evryting will be in memory when we are iterating a list\n",
    "# iterator : one element in memory\n",
    "\n",
    "lst = [1,2,3]\n",
    "itr = iter(lst)"
   ]
  },
  {
   "cell_type": "code",
   "execution_count": 12,
   "id": "e5cc104a",
   "metadata": {},
   "outputs": [
    {
     "name": "stdout",
     "output_type": "stream",
     "text": [
      "1\n",
      "2\n",
      "3\n"
     ]
    }
   ],
   "source": [
    "for i in range(len(lst)):\n",
    "    print(next(itr))"
   ]
  }
 ],
 "metadata": {
  "kernelspec": {
   "display_name": "Python 3 (ipykernel)",
   "language": "python",
   "name": "python3"
  },
  "language_info": {
   "codemirror_mode": {
    "name": "ipython",
    "version": 3
   },
   "file_extension": ".py",
   "mimetype": "text/x-python",
   "name": "python",
   "nbconvert_exporter": "python",
   "pygments_lexer": "ipython3",
   "version": "3.8.12"
  }
 },
 "nbformat": 4,
 "nbformat_minor": 5
}
